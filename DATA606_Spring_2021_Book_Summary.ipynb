{
  "nbformat": 4,
  "nbformat_minor": 0,
  "metadata": {
    "colab": {
      "name": "DATA606 - Spring 2021 - Book Summary.ipynb",
      "provenance": [],
      "collapsed_sections": []
    },
    "kernelspec": {
      "name": "python3",
      "display_name": "Python 3"
    }
  },
  "cells": [
    {
      "cell_type": "code",
      "metadata": {
        "id": "5igajVemz0YZ"
      },
      "source": [
        "#import statements\r\n",
        "import pandas as pd\r\n",
        "import numpy as np\r\n",
        "import seaborn as sns\r\n",
        "import matplotlib.pylab as plt\r\n",
        "import json\r\n",
        "import math\r\n",
        "\r\n",
        "import os\r\n",
        "import codecs\r\n",
        "from argparse import ArgumentParser\r\n",
        "from urllib import request\r\n",
        "from tqdm import trange\r\n",
        "from joblib import Parallel, delayed\r\n",
        "\r\n",
        "import requests, zipfile, io\r\n",
        "import tarfile\r\n",
        "import csv\r\n",
        "from tqdm import tqdm"
      ],
      "execution_count": null,
      "outputs": []
    },
    {
      "cell_type": "code",
      "metadata": {
        "id": "N9DoXSxa0E2q"
      },
      "source": [
        "download_url = \"http://www.cs.cmu.edu/~dbamman/data/booksummaries.tar.gz\""
      ],
      "execution_count": null,
      "outputs": []
    },
    {
      "cell_type": "code",
      "metadata": {
        "id": "o2XtJ_DH0Ide"
      },
      "source": [
        "r = requests.get(download_url)"
      ],
      "execution_count": null,
      "outputs": []
    },
    {
      "cell_type": "code",
      "metadata": {
        "id": "ECrFk_B10Ke_"
      },
      "source": [
        "tar_bytes = io.BytesIO(r.content)\r\n",
        "tf = tarfile.open(mode = 'r', fileobj=tar_bytes)\r\n",
        "tf.extractall()"
      ],
      "execution_count": null,
      "outputs": []
    },
    {
      "cell_type": "code",
      "metadata": {
        "colab": {
          "base_uri": "https://localhost:8080/"
        },
        "id": "HoB3Vrl-0PEj",
        "outputId": "5d0e638b-2a85-4483-d18c-979cf671c2ce"
      },
      "source": [
        "#code adapted from: https://www.kaggle.com/iamhungundji/book-summary-genre-prediction/notebook\r\n",
        "\r\n",
        "data = []\r\n",
        "\r\n",
        "with open(\"booksummaries/booksummaries.txt\", 'r') as f:\r\n",
        "    reader = csv.reader(f, dialect='excel-tab')\r\n",
        "    for row in tqdm(reader):\r\n",
        "        data.append(row)"
      ],
      "execution_count": null,
      "outputs": [
        {
          "output_type": "stream",
          "text": [
            "16559it [00:00, 28966.15it/s]\n"
          ],
          "name": "stderr"
        }
      ]
    },
    {
      "cell_type": "code",
      "metadata": {
        "colab": {
          "base_uri": "https://localhost:8080/",
          "height": 221
        },
        "id": "0kWvHt_c0UAM",
        "outputId": "09099151-fc7c-4de7-aece-f7fdba1eb3f7"
      },
      "source": [
        "#code adapted from: https://www.kaggle.com/iamhungundji/book-summary-genre-prediction/notebook\r\n",
        "wiki_id = []\r\n",
        "freebase_id = []\r\n",
        "book_title = []\r\n",
        "book_author = []\r\n",
        "publication_date = []\r\n",
        "genre = []\r\n",
        "summary = []\r\n",
        "\r\n",
        "for i in tqdm(data):\r\n",
        "    wiki_id.append(i[0])\r\n",
        "    freebase_id.append(i[1])\r\n",
        "    book_title.append(i[2])\r\n",
        "    book_author.append(i[3])\r\n",
        "    publication_date.append(i[4])\r\n",
        "    genre.append(i[5])\r\n",
        "    summary.append(i[6])\r\n",
        "\r\n",
        "books_summary = pd.DataFrame(data, columns = {'wiki_id': wiki_id, 'freebase_id': freebase_id, \r\n",
        "                      'book_title': book_title, 'book_author': book_author,\r\n",
        "                      'publication_date': publication_date, 'genre': genre, \r\n",
        "                      'summary': summary})\r\n",
        "books_summary.head()"
      ],
      "execution_count": null,
      "outputs": [
        {
          "output_type": "stream",
          "text": [
            "100%|██████████| 16559/16559 [00:00<00:00, 564878.29it/s]\n"
          ],
          "name": "stderr"
        },
        {
          "output_type": "execute_result",
          "data": {
            "text/html": [
              "<div>\n",
              "<style scoped>\n",
              "    .dataframe tbody tr th:only-of-type {\n",
              "        vertical-align: middle;\n",
              "    }\n",
              "\n",
              "    .dataframe tbody tr th {\n",
              "        vertical-align: top;\n",
              "    }\n",
              "\n",
              "    .dataframe thead th {\n",
              "        text-align: right;\n",
              "    }\n",
              "</style>\n",
              "<table border=\"1\" class=\"dataframe\">\n",
              "  <thead>\n",
              "    <tr style=\"text-align: right;\">\n",
              "      <th></th>\n",
              "      <th>wiki_id</th>\n",
              "      <th>freebase_id</th>\n",
              "      <th>book_title</th>\n",
              "      <th>book_author</th>\n",
              "      <th>publication_date</th>\n",
              "      <th>genre</th>\n",
              "      <th>summary</th>\n",
              "    </tr>\n",
              "  </thead>\n",
              "  <tbody>\n",
              "    <tr>\n",
              "      <th>0</th>\n",
              "      <td>620</td>\n",
              "      <td>/m/0hhy</td>\n",
              "      <td>Animal Farm</td>\n",
              "      <td>George Orwell</td>\n",
              "      <td>1945-08-17</td>\n",
              "      <td>{\"/m/016lj8\": \"Roman \\u00e0 clef\", \"/m/06nbt\":...</td>\n",
              "      <td>Old Major, the old boar on the Manor Farm, ca...</td>\n",
              "    </tr>\n",
              "    <tr>\n",
              "      <th>1</th>\n",
              "      <td>843</td>\n",
              "      <td>/m/0k36</td>\n",
              "      <td>A Clockwork Orange</td>\n",
              "      <td>Anthony Burgess</td>\n",
              "      <td>1962</td>\n",
              "      <td>{\"/m/06n90\": \"Science Fiction\", \"/m/0l67h\": \"N...</td>\n",
              "      <td>Alex, a teenager living in near-future Englan...</td>\n",
              "    </tr>\n",
              "    <tr>\n",
              "      <th>2</th>\n",
              "      <td>986</td>\n",
              "      <td>/m/0ldx</td>\n",
              "      <td>The Plague</td>\n",
              "      <td>Albert Camus</td>\n",
              "      <td>1947</td>\n",
              "      <td>{\"/m/02m4t\": \"Existentialism\", \"/m/02xlf\": \"Fi...</td>\n",
              "      <td>The text of The Plague is divided into five p...</td>\n",
              "    </tr>\n",
              "    <tr>\n",
              "      <th>3</th>\n",
              "      <td>1756</td>\n",
              "      <td>/m/0sww</td>\n",
              "      <td>An Enquiry Concerning Human Understanding</td>\n",
              "      <td>David Hume</td>\n",
              "      <td></td>\n",
              "      <td></td>\n",
              "      <td>The argument of the Enquiry proceeds by a ser...</td>\n",
              "    </tr>\n",
              "    <tr>\n",
              "      <th>4</th>\n",
              "      <td>2080</td>\n",
              "      <td>/m/0wkt</td>\n",
              "      <td>A Fire Upon the Deep</td>\n",
              "      <td>Vernor Vinge</td>\n",
              "      <td></td>\n",
              "      <td>{\"/m/03lrw\": \"Hard science fiction\", \"/m/06n90...</td>\n",
              "      <td>The novel posits that space around the Milky ...</td>\n",
              "    </tr>\n",
              "  </tbody>\n",
              "</table>\n",
              "</div>"
            ],
            "text/plain": [
              "  wiki_id  ...                                            summary\n",
              "0     620  ...   Old Major, the old boar on the Manor Farm, ca...\n",
              "1     843  ...   Alex, a teenager living in near-future Englan...\n",
              "2     986  ...   The text of The Plague is divided into five p...\n",
              "3    1756  ...   The argument of the Enquiry proceeds by a ser...\n",
              "4    2080  ...   The novel posits that space around the Milky ...\n",
              "\n",
              "[5 rows x 7 columns]"
            ]
          },
          "metadata": {
            "tags": []
          },
          "execution_count": 6
        }
      ]
    },
    {
      "cell_type": "code",
      "metadata": {
        "id": "DUjTZ0-qCq5w"
      },
      "source": [
        "#download_url = 'http://www2.informatik.uni-freiburg.de/~cziegler/BX/BX-CSV-Dump.zip'\r\n",
        "#!wget $download_url\r\n",
        "#!unzip BX-CSV-Dump.zip"
      ],
      "execution_count": null,
      "outputs": []
    },
    {
      "cell_type": "code",
      "metadata": {
        "id": "K3-iKDFU1RRT"
      },
      "source": [
        "#cover_cols =[\"ISBN\",\"Book-Title\",\"Book-Author\",\"Year-Of-Publication\",\"Publisher\",\"Image-URL-S\",\"Image-URL-M\",\"Image-URL-L\"]\r\n",
        "#books_cover = pd.read_csv('BX-Books.csv', header=0, names=cover_cols, encoding='latin1', delimiter=';', error_bad_lines=False)\r\n",
        "#books_cover.head()"
      ],
      "execution_count": null,
      "outputs": []
    },
    {
      "cell_type": "code",
      "metadata": {
        "colab": {
          "base_uri": "https://localhost:8080/"
        },
        "id": "bWzEHVJJx-TZ",
        "outputId": "ad2381d0-6bff-4e8e-8c6b-d2cbbb3318ff"
      },
      "source": [
        "download_url = 'https://github.com/uchidalab/book-dataset/raw/master/Task2/book32-listing.csv'\r\n",
        "!wget $download_url"
      ],
      "execution_count": null,
      "outputs": [
        {
          "output_type": "stream",
          "text": [
            "--2021-02-15 17:41:08--  https://github.com/uchidalab/book-dataset/raw/master/Task2/book32-listing.csv\n",
            "Resolving github.com (github.com)... 140.82.113.3\n",
            "Connecting to github.com (github.com)|140.82.113.3|:443... connected.\n",
            "HTTP request sent, awaiting response... 302 Found\n",
            "Location: https://raw.githubusercontent.com/uchidalab/book-dataset/master/Task2/book32-listing.csv [following]\n",
            "--2021-02-15 17:41:08--  https://raw.githubusercontent.com/uchidalab/book-dataset/master/Task2/book32-listing.csv\n",
            "Resolving raw.githubusercontent.com (raw.githubusercontent.com)... 185.199.108.133, 185.199.109.133, 185.199.110.133, ...\n",
            "Connecting to raw.githubusercontent.com (raw.githubusercontent.com)|185.199.108.133|:443... connected.\n",
            "HTTP request sent, awaiting response... 200 OK\n",
            "Length: 39483760 (38M) [text/plain]\n",
            "Saving to: ‘book32-listing.csv’\n",
            "\n",
            "book32-listing.csv  100%[===================>]  37.65M  65.7MB/s    in 0.6s    \n",
            "\n",
            "2021-02-15 17:41:09 (65.7 MB/s) - ‘book32-listing.csv’ saved [39483760/39483760]\n",
            "\n"
          ],
          "name": "stdout"
        }
      ]
    },
    {
      "cell_type": "code",
      "metadata": {
        "id": "X1pBuM6Hxq6K"
      },
      "source": [
        "#adapted from https://github.com/uchidalab/book-dataset/tree/master/scripts\r\n",
        "\r\n",
        "csv_filepath = 'book32-listing.csv'\r\n",
        "output_dirpath = 'covers'\r\n",
        "\r\n",
        "header_names = ['Amazon ID (ASIN)', 'Filename', 'Image URL', 'Title', 'Author', 'Category ID',\r\n",
        "                'Category']\r\n",
        "with codecs.open(csv_filepath, mode='r', encoding='utf-8', errors='ignore') as f:\r\n",
        "    csv = pd.read_csv(f, delimiter=\",\", header=None, names=header_names)\r\n",
        "\r\n",
        "if not os.path.isdir(output_dirpath):\r\n",
        "    os.makedirs(output_dirpath)\r\n",
        "\r\n",
        "def download_image(i):\r\n",
        "    filename = csv.iloc[i]['Filename']\r\n",
        "    category = csv.iloc[i]['Category']\r\n",
        "    inner_output_dirpath = os.path.join(output_dirpath, category)\r\n",
        "    if not os.path.isdir(inner_output_dirpath):\r\n",
        "        os.mkdir(inner_output_dirpath)\r\n",
        "    output_filepath = os.path.join(inner_output_dirpath, filename)\r\n",
        "\r\n",
        "    url = csv.iloc[i]['Image URL']\r\n",
        "    if not os.path.isfile(output_filepath):\r\n",
        "        downloaded_img = request.urlopen(url)\r\n",
        "        f = open(output_filepath, mode='wb')\r\n",
        "        f.write(downloaded_img.read())\r\n",
        "        downloaded_img.close()\r\n",
        "        f.close()\r\n",
        "\r\n",
        "def download_all_images():\r\n",
        "    print('[Download images into \"{}\"]'.format(args.output_dirpath))\r\n",
        "    Parallel(n_jobs=-1)(delayed(download_image)(i) for i in trange(len(csv)))"
      ],
      "execution_count": null,
      "outputs": []
    },
    {
      "cell_type": "code",
      "metadata": {
        "colab": {
          "base_uri": "https://localhost:8080/",
          "height": 204
        },
        "id": "jE3hCxviy4Lm",
        "outputId": "153938b8-162e-4ddb-d789-9fd66a6370d7"
      },
      "source": [
        "cover_cols = ['Amazon ID (ASIN)', 'Filename', 'Image URL', 'Title', 'Author', 'Category ID','Category']\r\n",
        "books_cover = pd.read_csv(csv_filepath, header=None, names=cover_cols, encoding='latin1', error_bad_lines=False)\r\n",
        "books_cover.head()"
      ],
      "execution_count": null,
      "outputs": [
        {
          "output_type": "execute_result",
          "data": {
            "text/html": [
              "<div>\n",
              "<style scoped>\n",
              "    .dataframe tbody tr th:only-of-type {\n",
              "        vertical-align: middle;\n",
              "    }\n",
              "\n",
              "    .dataframe tbody tr th {\n",
              "        vertical-align: top;\n",
              "    }\n",
              "\n",
              "    .dataframe thead th {\n",
              "        text-align: right;\n",
              "    }\n",
              "</style>\n",
              "<table border=\"1\" class=\"dataframe\">\n",
              "  <thead>\n",
              "    <tr style=\"text-align: right;\">\n",
              "      <th></th>\n",
              "      <th>Amazon ID (ASIN)</th>\n",
              "      <th>Filename</th>\n",
              "      <th>Image URL</th>\n",
              "      <th>Title</th>\n",
              "      <th>Author</th>\n",
              "      <th>Category ID</th>\n",
              "      <th>Category</th>\n",
              "    </tr>\n",
              "  </thead>\n",
              "  <tbody>\n",
              "    <tr>\n",
              "      <th>0</th>\n",
              "      <td>761183272</td>\n",
              "      <td>0761183272.jpg</td>\n",
              "      <td>http://ecx.images-amazon.com/images/I/61Y5cOdH...</td>\n",
              "      <td>Mom's Family Wall Calendar 2016</td>\n",
              "      <td>Sandra Boynton</td>\n",
              "      <td>3</td>\n",
              "      <td>Calendars</td>\n",
              "    </tr>\n",
              "    <tr>\n",
              "      <th>1</th>\n",
              "      <td>1623439671</td>\n",
              "      <td>1623439671.jpg</td>\n",
              "      <td>http://ecx.images-amazon.com/images/I/61t-hrSw...</td>\n",
              "      <td>Doug the Pug 2016 Wall Calendar</td>\n",
              "      <td>Doug the Pug</td>\n",
              "      <td>3</td>\n",
              "      <td>Calendars</td>\n",
              "    </tr>\n",
              "    <tr>\n",
              "      <th>2</th>\n",
              "      <td>B00O80WC6I</td>\n",
              "      <td>B00O80WC6I.jpg</td>\n",
              "      <td>http://ecx.images-amazon.com/images/I/41X-KQqs...</td>\n",
              "      <td>Moleskine 2016 Weekly Notebook, 12M, Large, Bl...</td>\n",
              "      <td>Moleskine</td>\n",
              "      <td>3</td>\n",
              "      <td>Calendars</td>\n",
              "    </tr>\n",
              "    <tr>\n",
              "      <th>3</th>\n",
              "      <td>761182187</td>\n",
              "      <td>0761182187.jpg</td>\n",
              "      <td>http://ecx.images-amazon.com/images/I/61j-4gxJ...</td>\n",
              "      <td>365 Cats Color Page-A-Day Calendar 2016</td>\n",
              "      <td>Workman Publishing</td>\n",
              "      <td>3</td>\n",
              "      <td>Calendars</td>\n",
              "    </tr>\n",
              "    <tr>\n",
              "      <th>4</th>\n",
              "      <td>1578052084</td>\n",
              "      <td>1578052084.jpg</td>\n",
              "      <td>http://ecx.images-amazon.com/images/I/51Ry4Tsq...</td>\n",
              "      <td>Sierra Club Engagement Calendar 2016</td>\n",
              "      <td>Sierra Club</td>\n",
              "      <td>3</td>\n",
              "      <td>Calendars</td>\n",
              "    </tr>\n",
              "  </tbody>\n",
              "</table>\n",
              "</div>"
            ],
            "text/plain": [
              "  Amazon ID (ASIN)        Filename  ... Category ID   Category\n",
              "0        761183272  0761183272.jpg  ...           3  Calendars\n",
              "1       1623439671  1623439671.jpg  ...           3  Calendars\n",
              "2       B00O80WC6I  B00O80WC6I.jpg  ...           3  Calendars\n",
              "3        761182187  0761182187.jpg  ...           3  Calendars\n",
              "4       1578052084  1578052084.jpg  ...           3  Calendars\n",
              "\n",
              "[5 rows x 7 columns]"
            ]
          },
          "metadata": {
            "tags": []
          },
          "execution_count": 11
        }
      ]
    },
    {
      "cell_type": "code",
      "metadata": {
        "colab": {
          "base_uri": "https://localhost:8080/"
        },
        "id": "JeNfJlYt05Y6",
        "outputId": "ebabf234-5d62-4c24-88a8-886cabb568e4"
      },
      "source": [
        "books_cover.shape"
      ],
      "execution_count": null,
      "outputs": [
        {
          "output_type": "execute_result",
          "data": {
            "text/plain": [
              "(271360, 8)"
            ]
          },
          "metadata": {
            "tags": []
          },
          "execution_count": 18
        }
      ]
    },
    {
      "cell_type": "code",
      "metadata": {
        "id": "VTr9T90-1I1m",
        "colab": {
          "base_uri": "https://localhost:8080/"
        },
        "outputId": "5f651b3d-4325-4643-f0d3-b2f232a07602"
      },
      "source": [
        "books_cover.columns"
      ],
      "execution_count": null,
      "outputs": [
        {
          "output_type": "execute_result",
          "data": {
            "text/plain": [
              "Index(['ISBN', 'Book-Title', 'Book-Author', 'Year-Of-Publication', 'Publisher',\n",
              "       'Image-URL-S', 'Image-URL-M', 'Image-URL-L'],\n",
              "      dtype='object')"
            ]
          },
          "metadata": {
            "tags": []
          },
          "execution_count": 19
        }
      ]
    },
    {
      "cell_type": "code",
      "metadata": {
        "id": "28wnlHmu5y5w"
      },
      "source": [
        "combined_pd = books_summary\r\n",
        "combined_pd = combined_pd.merge(books_cover, left_on=[\"book_title\" ,\"book_author\"], right_on=[\"Title\",\"Author\"])"
      ],
      "execution_count": null,
      "outputs": []
    },
    {
      "cell_type": "code",
      "metadata": {
        "colab": {
          "base_uri": "https://localhost:8080/",
          "height": 476
        },
        "id": "ivvEVezk8git",
        "outputId": "ad744815-ea13-4575-d892-1a78cc60304b"
      },
      "source": [
        "combined_pd.shape\r\n",
        "combined_pd.head()"
      ],
      "execution_count": null,
      "outputs": [
        {
          "output_type": "execute_result",
          "data": {
            "text/html": [
              "<div>\n",
              "<style scoped>\n",
              "    .dataframe tbody tr th:only-of-type {\n",
              "        vertical-align: middle;\n",
              "    }\n",
              "\n",
              "    .dataframe tbody tr th {\n",
              "        vertical-align: top;\n",
              "    }\n",
              "\n",
              "    .dataframe thead th {\n",
              "        text-align: right;\n",
              "    }\n",
              "</style>\n",
              "<table border=\"1\" class=\"dataframe\">\n",
              "  <thead>\n",
              "    <tr style=\"text-align: right;\">\n",
              "      <th></th>\n",
              "      <th>wiki_id</th>\n",
              "      <th>freebase_id</th>\n",
              "      <th>book_title</th>\n",
              "      <th>book_author</th>\n",
              "      <th>publication_date</th>\n",
              "      <th>genre</th>\n",
              "      <th>summary</th>\n",
              "      <th>Amazon ID (ASIN)</th>\n",
              "      <th>Filename</th>\n",
              "      <th>Image URL</th>\n",
              "      <th>Title</th>\n",
              "      <th>Author</th>\n",
              "      <th>Category ID</th>\n",
              "      <th>Category</th>\n",
              "    </tr>\n",
              "  </thead>\n",
              "  <tbody>\n",
              "    <tr>\n",
              "      <th>0</th>\n",
              "      <td>620</td>\n",
              "      <td>/m/0hhy</td>\n",
              "      <td>Animal Farm</td>\n",
              "      <td>George Orwell</td>\n",
              "      <td>1945-08-17</td>\n",
              "      <td>{\"/m/016lj8\": \"Roman \\u00e0 clef\", \"/m/06nbt\":...</td>\n",
              "      <td>Old Major, the old boar on the Manor Farm, ca...</td>\n",
              "      <td>812911612X</td>\n",
              "      <td>812911612X.jpg</td>\n",
              "      <td>http://ecx.images-amazon.com/images/I/51rssg33...</td>\n",
              "      <td>Animal Farm</td>\n",
              "      <td>George Orwell</td>\n",
              "      <td>15</td>\n",
              "      <td>Literature &amp; Fiction</td>\n",
              "    </tr>\n",
              "    <tr>\n",
              "      <th>1</th>\n",
              "      <td>620</td>\n",
              "      <td>/m/0hhy</td>\n",
              "      <td>Animal Farm</td>\n",
              "      <td>George Orwell</td>\n",
              "      <td>1945-08-17</td>\n",
              "      <td>{\"/m/016lj8\": \"Roman \\u00e0 clef\", \"/m/06nbt\":...</td>\n",
              "      <td>Old Major, the old boar on the Manor Farm, ca...</td>\n",
              "      <td>151072558</td>\n",
              "      <td>0151072558.jpg</td>\n",
              "      <td>http://ecx.images-amazon.com/images/I/51wdIdct...</td>\n",
              "      <td>Animal Farm</td>\n",
              "      <td>George Orwell</td>\n",
              "      <td>27</td>\n",
              "      <td>Teen &amp; Young Adult</td>\n",
              "    </tr>\n",
              "    <tr>\n",
              "      <th>2</th>\n",
              "      <td>843</td>\n",
              "      <td>/m/0k36</td>\n",
              "      <td>A Clockwork Orange</td>\n",
              "      <td>Anthony Burgess</td>\n",
              "      <td>1962</td>\n",
              "      <td>{\"/m/06n90\": \"Science Fiction\", \"/m/0l67h\": \"N...</td>\n",
              "      <td>Alex, a teenager living in near-future Englan...</td>\n",
              "      <td>393312836</td>\n",
              "      <td>0393312836.jpg</td>\n",
              "      <td>http://ecx.images-amazon.com/images/I/41Y5oe4r...</td>\n",
              "      <td>A Clockwork Orange</td>\n",
              "      <td>Anthony Burgess</td>\n",
              "      <td>24</td>\n",
              "      <td>Science Fiction &amp; Fantasy</td>\n",
              "    </tr>\n",
              "    <tr>\n",
              "      <th>3</th>\n",
              "      <td>843</td>\n",
              "      <td>/m/0k36</td>\n",
              "      <td>A Clockwork Orange</td>\n",
              "      <td>Anthony Burgess</td>\n",
              "      <td>1962</td>\n",
              "      <td>{\"/m/06n90\": \"Science Fiction\", \"/m/0l67h\": \"N...</td>\n",
              "      <td>Alex, a teenager living in near-future Englan...</td>\n",
              "      <td>3453130790</td>\n",
              "      <td>3453130790.jpg</td>\n",
              "      <td>http://ecx.images-amazon.com/images/I/61BFz75O...</td>\n",
              "      <td>A Clockwork Orange</td>\n",
              "      <td>Anthony Burgess</td>\n",
              "      <td>15</td>\n",
              "      <td>Literature &amp; Fiction</td>\n",
              "    </tr>\n",
              "    <tr>\n",
              "      <th>4</th>\n",
              "      <td>986</td>\n",
              "      <td>/m/0ldx</td>\n",
              "      <td>The Plague</td>\n",
              "      <td>Albert Camus</td>\n",
              "      <td>1947</td>\n",
              "      <td>{\"/m/02m4t\": \"Existentialism\", \"/m/02xlf\": \"Fi...</td>\n",
              "      <td>The text of The Plague is divided into five p...</td>\n",
              "      <td>679720219</td>\n",
              "      <td>0679720219.jpg</td>\n",
              "      <td>http://ecx.images-amazon.com/images/I/5189NK0O...</td>\n",
              "      <td>The Plague</td>\n",
              "      <td>Albert Camus</td>\n",
              "      <td>15</td>\n",
              "      <td>Literature &amp; Fiction</td>\n",
              "    </tr>\n",
              "  </tbody>\n",
              "</table>\n",
              "</div>"
            ],
            "text/plain": [
              "  wiki_id freebase_id  ... Category ID                   Category\n",
              "0     620     /m/0hhy  ...          15       Literature & Fiction\n",
              "1     620     /m/0hhy  ...          27         Teen & Young Adult\n",
              "2     843     /m/0k36  ...          24  Science Fiction & Fantasy\n",
              "3     843     /m/0k36  ...          15       Literature & Fiction\n",
              "4     986     /m/0ldx  ...          15       Literature & Fiction\n",
              "\n",
              "[5 rows x 14 columns]"
            ]
          },
          "metadata": {
            "tags": []
          },
          "execution_count": 15
        }
      ]
    },
    {
      "cell_type": "code",
      "metadata": {
        "id": "cGU1v1HMAmLS"
      },
      "source": [
        "combined_pd_filtered = combined_pd.drop_duplicates(subset=['book_title', 'book_author'], keep='first')"
      ],
      "execution_count": null,
      "outputs": []
    },
    {
      "cell_type": "code",
      "metadata": {
        "colab": {
          "base_uri": "https://localhost:8080/"
        },
        "id": "RG6RiUOktggn",
        "outputId": "a8752f70-610b-4ae9-836b-2f5b9c0fa12a"
      },
      "source": [
        "combined_pd_filtered.shape"
      ],
      "execution_count": null,
      "outputs": [
        {
          "output_type": "execute_result",
          "data": {
            "text/plain": [
              "(926, 14)"
            ]
          },
          "metadata": {
            "tags": []
          },
          "execution_count": 17
        }
      ]
    },
    {
      "cell_type": "code",
      "metadata": {
        "colab": {
          "base_uri": "https://localhost:8080/",
          "height": 544
        },
        "id": "yWc3AvEjBPL0",
        "outputId": "7b147fd8-c133-48d1-e75a-6e1f86c80cef"
      },
      "source": [
        "combined_pd_filtered.head()"
      ],
      "execution_count": null,
      "outputs": [
        {
          "output_type": "execute_result",
          "data": {
            "text/html": [
              "<div>\n",
              "<style scoped>\n",
              "    .dataframe tbody tr th:only-of-type {\n",
              "        vertical-align: middle;\n",
              "    }\n",
              "\n",
              "    .dataframe tbody tr th {\n",
              "        vertical-align: top;\n",
              "    }\n",
              "\n",
              "    .dataframe thead th {\n",
              "        text-align: right;\n",
              "    }\n",
              "</style>\n",
              "<table border=\"1\" class=\"dataframe\">\n",
              "  <thead>\n",
              "    <tr style=\"text-align: right;\">\n",
              "      <th></th>\n",
              "      <th>wiki_id</th>\n",
              "      <th>freebase_id</th>\n",
              "      <th>book_title</th>\n",
              "      <th>book_author</th>\n",
              "      <th>publication_date</th>\n",
              "      <th>genre</th>\n",
              "      <th>summary</th>\n",
              "      <th>Amazon ID (ASIN)</th>\n",
              "      <th>Filename</th>\n",
              "      <th>Image URL</th>\n",
              "      <th>Title</th>\n",
              "      <th>Author</th>\n",
              "      <th>Category ID</th>\n",
              "      <th>Category</th>\n",
              "    </tr>\n",
              "  </thead>\n",
              "  <tbody>\n",
              "    <tr>\n",
              "      <th>0</th>\n",
              "      <td>620</td>\n",
              "      <td>/m/0hhy</td>\n",
              "      <td>Animal Farm</td>\n",
              "      <td>George Orwell</td>\n",
              "      <td>1945-08-17</td>\n",
              "      <td>{\"/m/016lj8\": \"Roman \\u00e0 clef\", \"/m/06nbt\":...</td>\n",
              "      <td>Old Major, the old boar on the Manor Farm, ca...</td>\n",
              "      <td>812911612X</td>\n",
              "      <td>812911612X.jpg</td>\n",
              "      <td>http://ecx.images-amazon.com/images/I/51rssg33...</td>\n",
              "      <td>Animal Farm</td>\n",
              "      <td>George Orwell</td>\n",
              "      <td>15</td>\n",
              "      <td>Literature &amp; Fiction</td>\n",
              "    </tr>\n",
              "    <tr>\n",
              "      <th>2</th>\n",
              "      <td>843</td>\n",
              "      <td>/m/0k36</td>\n",
              "      <td>A Clockwork Orange</td>\n",
              "      <td>Anthony Burgess</td>\n",
              "      <td>1962</td>\n",
              "      <td>{\"/m/06n90\": \"Science Fiction\", \"/m/0l67h\": \"N...</td>\n",
              "      <td>Alex, a teenager living in near-future Englan...</td>\n",
              "      <td>393312836</td>\n",
              "      <td>0393312836.jpg</td>\n",
              "      <td>http://ecx.images-amazon.com/images/I/41Y5oe4r...</td>\n",
              "      <td>A Clockwork Orange</td>\n",
              "      <td>Anthony Burgess</td>\n",
              "      <td>24</td>\n",
              "      <td>Science Fiction &amp; Fantasy</td>\n",
              "    </tr>\n",
              "    <tr>\n",
              "      <th>4</th>\n",
              "      <td>986</td>\n",
              "      <td>/m/0ldx</td>\n",
              "      <td>The Plague</td>\n",
              "      <td>Albert Camus</td>\n",
              "      <td>1947</td>\n",
              "      <td>{\"/m/02m4t\": \"Existentialism\", \"/m/02xlf\": \"Fi...</td>\n",
              "      <td>The text of The Plague is divided into five p...</td>\n",
              "      <td>679720219</td>\n",
              "      <td>0679720219.jpg</td>\n",
              "      <td>http://ecx.images-amazon.com/images/I/5189NK0O...</td>\n",
              "      <td>The Plague</td>\n",
              "      <td>Albert Camus</td>\n",
              "      <td>15</td>\n",
              "      <td>Literature &amp; Fiction</td>\n",
              "    </tr>\n",
              "    <tr>\n",
              "      <th>5</th>\n",
              "      <td>2152</td>\n",
              "      <td>/m/0x5g</td>\n",
              "      <td>All Quiet on the Western Front</td>\n",
              "      <td>Erich Maria Remarque</td>\n",
              "      <td>1929-01-29</td>\n",
              "      <td>{\"/m/098tmk\": \"War novel\", \"/m/016lj8\": \"Roman...</td>\n",
              "      <td>The book tells the story of Paul Bäumer, a Ge...</td>\n",
              "      <td>449213943</td>\n",
              "      <td>0449213943.jpg</td>\n",
              "      <td>http://ecx.images-amazon.com/images/I/516yP3uD...</td>\n",
              "      <td>All Quiet on the Western Front</td>\n",
              "      <td>Erich Maria Remarque</td>\n",
              "      <td>15</td>\n",
              "      <td>Literature &amp; Fiction</td>\n",
              "    </tr>\n",
              "    <tr>\n",
              "      <th>6</th>\n",
              "      <td>7923</td>\n",
              "      <td>/m/026l0</td>\n",
              "      <td>Dracula</td>\n",
              "      <td>Bram Stoker</td>\n",
              "      <td>1897</td>\n",
              "      <td>{\"/m/06n90\": \"Science Fiction\", \"/m/014dfn\": \"...</td>\n",
              "      <td>The novel is told in epistolary format, as a ...</td>\n",
              "      <td>486411095</td>\n",
              "      <td>0486411095.jpg</td>\n",
              "      <td>http://ecx.images-amazon.com/images/I/51N33RX1...</td>\n",
              "      <td>Dracula</td>\n",
              "      <td>Bram Stoker</td>\n",
              "      <td>17</td>\n",
              "      <td>Mystery, Thriller &amp; Suspense</td>\n",
              "    </tr>\n",
              "  </tbody>\n",
              "</table>\n",
              "</div>"
            ],
            "text/plain": [
              "  wiki_id freebase_id  ... Category ID                      Category\n",
              "0     620     /m/0hhy  ...          15          Literature & Fiction\n",
              "2     843     /m/0k36  ...          24     Science Fiction & Fantasy\n",
              "4     986     /m/0ldx  ...          15          Literature & Fiction\n",
              "5    2152     /m/0x5g  ...          15          Literature & Fiction\n",
              "6    7923    /m/026l0  ...          17  Mystery, Thriller & Suspense\n",
              "\n",
              "[5 rows x 14 columns]"
            ]
          },
          "metadata": {
            "tags": []
          },
          "execution_count": 18
        }
      ]
    },
    {
      "cell_type": "code",
      "metadata": {
        "id": "WFIyd4fewB06",
        "colab": {
          "base_uri": "https://localhost:8080/"
        },
        "outputId": "e89002aa-7f1a-41e0-952a-c662eba6f420"
      },
      "source": [
        "books_cover_filtered = books_cover.drop_duplicates(subset=['Title', 'Author'], keep='first')\r\n",
        "books_cover_filtered.shape"
      ],
      "execution_count": null,
      "outputs": [
        {
          "output_type": "execute_result",
          "data": {
            "text/plain": [
              "(204906, 7)"
            ]
          },
          "metadata": {
            "tags": []
          },
          "execution_count": 19
        }
      ]
    },
    {
      "cell_type": "code",
      "metadata": {
        "colab": {
          "base_uri": "https://localhost:8080/",
          "height": 306
        },
        "id": "qBJUtOFv6fxt",
        "outputId": "b498969d-00af-473a-fb91-0b26893d50fa"
      },
      "source": [
        "books_cover_filtered = books_cover_filtered.sort_values('Author')\r\n",
        "books_cover_filtered.head()"
      ],
      "execution_count": null,
      "outputs": [
        {
          "output_type": "execute_result",
          "data": {
            "text/html": [
              "<div>\n",
              "<style scoped>\n",
              "    .dataframe tbody tr th:only-of-type {\n",
              "        vertical-align: middle;\n",
              "    }\n",
              "\n",
              "    .dataframe tbody tr th {\n",
              "        vertical-align: top;\n",
              "    }\n",
              "\n",
              "    .dataframe thead th {\n",
              "        text-align: right;\n",
              "    }\n",
              "</style>\n",
              "<table border=\"1\" class=\"dataframe\">\n",
              "  <thead>\n",
              "    <tr style=\"text-align: right;\">\n",
              "      <th></th>\n",
              "      <th>Amazon ID (ASIN)</th>\n",
              "      <th>Filename</th>\n",
              "      <th>Image URL</th>\n",
              "      <th>Title</th>\n",
              "      <th>Author</th>\n",
              "      <th>Category ID</th>\n",
              "      <th>Category</th>\n",
              "    </tr>\n",
              "  </thead>\n",
              "  <tbody>\n",
              "    <tr>\n",
              "      <th>73561</th>\n",
              "      <td>B00S1O283E</td>\n",
              "      <td>B00S1O283E.jpg</td>\n",
              "      <td>http://ecx.images-amazon.com/images/I/51ijae60...</td>\n",
              "      <td>Bitcoins for Beginners: Teach Me Everything I ...</td>\n",
              "      <td>30 Minute Reads</td>\n",
              "      <td>6</td>\n",
              "      <td>Computers &amp; Technology</td>\n",
              "    </tr>\n",
              "    <tr>\n",
              "      <th>67847</th>\n",
              "      <td>B00TI458HE</td>\n",
              "      <td>B00TI458HE.jpg</td>\n",
              "      <td>http://ecx.images-amazon.com/images/I/41jQB7FK...</td>\n",
              "      <td>Adult Children of Alcoholics/Dysfunctional Fam...</td>\n",
              "      <td>Adult Children of Alcoholics/Dysfunctional Fa...</td>\n",
              "      <td>25</td>\n",
              "      <td>Self-Help</td>\n",
              "    </tr>\n",
              "    <tr>\n",
              "      <th>155649</th>\n",
              "      <td>B00XM7LYL2</td>\n",
              "      <td>B00XM7LYL2.jpg</td>\n",
              "      <td>http://ecx.images-amazon.com/images/I/61o%2BV3...</td>\n",
              "      <td>Religions of the World: The History and Belief...</td>\n",
              "      <td>Charles River Editors</td>\n",
              "      <td>21</td>\n",
              "      <td>Religion &amp; Spirituality</td>\n",
              "    </tr>\n",
              "    <tr>\n",
              "      <th>113862</th>\n",
              "      <td>B010YVZ6IU</td>\n",
              "      <td>B010YVZ6IU.jpg</td>\n",
              "      <td>http://ecx.images-amazon.com/images/I/51N84SmB...</td>\n",
              "      <td>Financial Management Explained in 40 Minutes: ...</td>\n",
              "      <td>FastKnowledge</td>\n",
              "      <td>2</td>\n",
              "      <td>Business &amp; Money</td>\n",
              "    </tr>\n",
              "    <tr>\n",
              "      <th>23575</th>\n",
              "      <td>B00OQP8XFO</td>\n",
              "      <td>B00OQP8XFO.jpg</td>\n",
              "      <td>http://ecx.images-amazon.com/images/I/61s2t4jK...</td>\n",
              "      <td>Banana Kong Game Guide</td>\n",
              "      <td>HiddenStuff Entertainment</td>\n",
              "      <td>13</td>\n",
              "      <td>Humor &amp; Entertainment</td>\n",
              "    </tr>\n",
              "  </tbody>\n",
              "</table>\n",
              "</div>"
            ],
            "text/plain": [
              "       Amazon ID (ASIN)        Filename  ... Category ID                 Category\n",
              "73561        B00S1O283E  B00S1O283E.jpg  ...           6   Computers & Technology\n",
              "67847        B00TI458HE  B00TI458HE.jpg  ...          25                Self-Help\n",
              "155649       B00XM7LYL2  B00XM7LYL2.jpg  ...          21  Religion & Spirituality\n",
              "113862       B010YVZ6IU  B010YVZ6IU.jpg  ...           2         Business & Money\n",
              "23575        B00OQP8XFO  B00OQP8XFO.jpg  ...          13    Humor & Entertainment\n",
              "\n",
              "[5 rows x 7 columns]"
            ]
          },
          "metadata": {
            "tags": []
          },
          "execution_count": 22
        }
      ]
    },
    {
      "cell_type": "code",
      "metadata": {
        "id": "VJE8WLMM7Yqu"
      },
      "source": [
        ""
      ],
      "execution_count": null,
      "outputs": []
    }
  ]
}